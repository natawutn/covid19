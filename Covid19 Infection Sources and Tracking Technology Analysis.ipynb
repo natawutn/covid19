{
 "cells": [
  {
   "cell_type": "markdown",
   "metadata": {},
   "source": [
    "# Covid-19 Infection Sources and Tracking Technology Analysis"
   ]
  },
  {
   "cell_type": "code",
   "execution_count": 1,
   "metadata": {},
   "outputs": [],
   "source": [
    "from jsonfinder import jsonfinder\n",
    "import urllib.request\n",
    "import pandas as pd"
   ]
  },
  {
   "cell_type": "markdown",
   "metadata": {},
   "source": [
    "## Read data from DDC\n",
    "As data available in the government open data contains very little information, we will scrape it from the network chart provided in the DDC Covid19 public report website.  The chart provides more details about each case and how they got infected."
   ]
  },
  {
   "cell_type": "code",
   "execution_count": 2,
   "metadata": {},
   "outputs": [],
   "source": [
    "with urllib.request.urlopen('https://covid19.ddc.moph.go.th/th/network') as fp:\n",
    "    mybytes = fp.read()\n",
    "    content = mybytes.decode(\"utf8\")"
   ]
  },
  {
   "cell_type": "code",
   "execution_count": 3,
   "metadata": {},
   "outputs": [],
   "source": [
    "l = []\n",
    "for _, __, obj in jsonfinder(content, json_only=True):\n",
    "    if len(obj) > 0 and isinstance(obj, list):\n",
    "        if isinstance(obj[0], dict):\n",
    "            l += obj"
   ]
  },
  {
   "cell_type": "code",
   "execution_count": 4,
   "metadata": {},
   "outputs": [
    {
     "data": {
      "text/plain": [
       "725"
      ]
     },
     "execution_count": 4,
     "metadata": {},
     "output_type": "execute_result"
    }
   ],
   "source": [
    "len(l)"
   ]
  },
  {
   "cell_type": "markdown",
   "metadata": {},
   "source": [
    "## EDA using pandas\n",
    "\n",
    "There are 4 rows types:\n",
    "- case information (status != 1)\n",
    "  - rid: report id in the new case (can be single case or multiple cases)\n",
    "  - detail_th, detail_en: description of the case\n",
    "- location (location_from_id > 0 and report_name is N/A)\n",
    "  - location-from_id: location reference id\n",
    "  - from_name, from_name_en: name of the location\n",
    "  - Note that location can be specific location, country, area, or even close contact\n",
    "- link from case to case or direct contact (report_from_id > 0)\n",
    "  - report_name: report id of the patient who contact from existing case\n",
    "- link from case to location (location_from_id > 0 and report_name is not N/A)\n",
    "  - report_name: report id of the patient who contact from location"
   ]
  },
  {
   "cell_type": "code",
   "execution_count": 5,
   "metadata": {},
   "outputs": [],
   "source": [
    "df = pd.DataFrame(l)"
   ]
  },
  {
   "cell_type": "code",
   "execution_count": 6,
   "metadata": {},
   "outputs": [
    {
     "data": {
      "text/plain": [
       "Index(['id', 'rid', 'confirm_at', 'detail_th', 'detail_en', 'admin_id',\n",
       "       'created_at', 'updated_at', 'report_id', 'location_from_id',\n",
       "       'location_to_id', 'status', 'report_from_id', 'icon_id', 'report_name',\n",
       "       'from_refid', 'from_name', 'from_name_en', 'to_name', 'to_name_en',\n",
       "       'image'],\n",
       "      dtype='object')"
      ]
     },
     "execution_count": 6,
     "metadata": {},
     "output_type": "execute_result"
    }
   ],
   "source": [
    "df.columns"
   ]
  },
  {
   "cell_type": "markdown",
   "metadata": {},
   "source": [
    "### Understand the mapping between location_from_id and its meaning"
   ]
  },
  {
   "cell_type": "code",
   "execution_count": 7,
   "metadata": {},
   "outputs": [
    {
     "data": {
      "text/html": [
       "<div>\n",
       "<style scoped>\n",
       "    .dataframe tbody tr th:only-of-type {\n",
       "        vertical-align: middle;\n",
       "    }\n",
       "\n",
       "    .dataframe tbody tr th {\n",
       "        vertical-align: top;\n",
       "    }\n",
       "\n",
       "    .dataframe thead th {\n",
       "        text-align: right;\n",
       "    }\n",
       "</style>\n",
       "<table border=\"1\" class=\"dataframe\">\n",
       "  <thead>\n",
       "    <tr style=\"text-align: right;\">\n",
       "      <th></th>\n",
       "      <th>location_from_id</th>\n",
       "      <th>from_name</th>\n",
       "    </tr>\n",
       "  </thead>\n",
       "  <tbody>\n",
       "    <tr>\n",
       "      <th>683</th>\n",
       "      <td>1.0</td>\n",
       "      <td>สัมผัสผู้ป่วยไม่ระบุเคส</td>\n",
       "    </tr>\n",
       "    <tr>\n",
       "      <th>684</th>\n",
       "      <td>2.0</td>\n",
       "      <td>บุคลากรการแพทย์</td>\n",
       "    </tr>\n",
       "    <tr>\n",
       "      <th>685</th>\n",
       "      <td>3.0</td>\n",
       "      <td>ต่างประเทศ (ไม่ระบุ)</td>\n",
       "    </tr>\n",
       "    <tr>\n",
       "      <th>686</th>\n",
       "      <td>4.0</td>\n",
       "      <td>ไม่พบข้อมูล</td>\n",
       "    </tr>\n",
       "    <tr>\n",
       "      <th>687</th>\n",
       "      <td>5.0</td>\n",
       "      <td>ญี่ปุ่น</td>\n",
       "    </tr>\n",
       "    <tr>\n",
       "      <th>688</th>\n",
       "      <td>6.0</td>\n",
       "      <td>จีน</td>\n",
       "    </tr>\n",
       "    <tr>\n",
       "      <th>689</th>\n",
       "      <td>7.0</td>\n",
       "      <td>ไทย</td>\n",
       "    </tr>\n",
       "    <tr>\n",
       "      <th>690</th>\n",
       "      <td>8.0</td>\n",
       "      <td>เกาหลีใต้</td>\n",
       "    </tr>\n",
       "    <tr>\n",
       "      <th>691</th>\n",
       "      <td>40.0</td>\n",
       "      <td>เยอรมัน</td>\n",
       "    </tr>\n",
       "    <tr>\n",
       "      <th>692</th>\n",
       "      <td>9.0</td>\n",
       "      <td>สวิตเซอแลนด์</td>\n",
       "    </tr>\n",
       "    <tr>\n",
       "      <th>693</th>\n",
       "      <td>10.0</td>\n",
       "      <td>อิตาลี</td>\n",
       "    </tr>\n",
       "    <tr>\n",
       "      <th>694</th>\n",
       "      <td>11.0</td>\n",
       "      <td>อิหร่าน</td>\n",
       "    </tr>\n",
       "    <tr>\n",
       "      <th>695</th>\n",
       "      <td>12.0</td>\n",
       "      <td>ฮ่องกง</td>\n",
       "    </tr>\n",
       "    <tr>\n",
       "      <th>696</th>\n",
       "      <td>13.0</td>\n",
       "      <td>ไต้หวัน</td>\n",
       "    </tr>\n",
       "    <tr>\n",
       "      <th>697</th>\n",
       "      <td>14.0</td>\n",
       "      <td>ฝรั่งเศส</td>\n",
       "    </tr>\n",
       "    <tr>\n",
       "      <th>698</th>\n",
       "      <td>15.0</td>\n",
       "      <td>อังกฤษ</td>\n",
       "    </tr>\n",
       "    <tr>\n",
       "      <th>699</th>\n",
       "      <td>16.0</td>\n",
       "      <td>อินเดีย</td>\n",
       "    </tr>\n",
       "    <tr>\n",
       "      <th>700</th>\n",
       "      <td>17.0</td>\n",
       "      <td>กัมพูชา</td>\n",
       "    </tr>\n",
       "    <tr>\n",
       "      <th>701</th>\n",
       "      <td>18.0</td>\n",
       "      <td>สเปน</td>\n",
       "    </tr>\n",
       "    <tr>\n",
       "      <th>702</th>\n",
       "      <td>19.0</td>\n",
       "      <td>มาเลเซีย</td>\n",
       "    </tr>\n",
       "    <tr>\n",
       "      <th>703</th>\n",
       "      <td>20.0</td>\n",
       "      <td>อู่ฮั่น</td>\n",
       "    </tr>\n",
       "    <tr>\n",
       "      <th>704</th>\n",
       "      <td>21.0</td>\n",
       "      <td>กรุงเทพ</td>\n",
       "    </tr>\n",
       "    <tr>\n",
       "      <th>705</th>\n",
       "      <td>22.0</td>\n",
       "      <td>จิงโจว</td>\n",
       "    </tr>\n",
       "    <tr>\n",
       "      <th>706</th>\n",
       "      <td>24.0</td>\n",
       "      <td>หัวหิน</td>\n",
       "    </tr>\n",
       "    <tr>\n",
       "      <th>707</th>\n",
       "      <td>25.0</td>\n",
       "      <td>ประจวบคีรีขันธ์</td>\n",
       "    </tr>\n",
       "    <tr>\n",
       "      <th>708</th>\n",
       "      <td>26.0</td>\n",
       "      <td>คิงพาวเวอร์ สาขา ศรีวารี</td>\n",
       "    </tr>\n",
       "    <tr>\n",
       "      <th>709</th>\n",
       "      <td>27.0</td>\n",
       "      <td>สมุทรปราการ</td>\n",
       "    </tr>\n",
       "    <tr>\n",
       "      <th>710</th>\n",
       "      <td>30.0</td>\n",
       "      <td>สนามบินสุวรรณภูมิ</td>\n",
       "    </tr>\n",
       "    <tr>\n",
       "      <th>711</th>\n",
       "      <td>31.0</td>\n",
       "      <td>Ohana Poké</td>\n",
       "    </tr>\n",
       "    <tr>\n",
       "      <th>712</th>\n",
       "      <td>32.0</td>\n",
       "      <td>สถานบันเทิงทองหล่อ</td>\n",
       "    </tr>\n",
       "    <tr>\n",
       "      <th>713</th>\n",
       "      <td>33.0</td>\n",
       "      <td>สนามมวย ราชดำเนิน ลุมพินี อ้อมน้อย</td>\n",
       "    </tr>\n",
       "    <tr>\n",
       "      <th>714</th>\n",
       "      <td>34.0</td>\n",
       "      <td>Sri Petaling Mosque</td>\n",
       "    </tr>\n",
       "    <tr>\n",
       "      <th>715</th>\n",
       "      <td>35.0</td>\n",
       "      <td>กัวลาลัมเปอร์</td>\n",
       "    </tr>\n",
       "    <tr>\n",
       "      <th>716</th>\n",
       "      <td>39.0</td>\n",
       "      <td>สถานบันเทิงกลางเมืองกรุงเทพ</td>\n",
       "    </tr>\n",
       "    <tr>\n",
       "      <th>717</th>\n",
       "      <td>41.0</td>\n",
       "      <td>ทำงานหรืออาศัยในที่แออัด หรือมีนักท่องเที่ยวจำ...</td>\n",
       "    </tr>\n",
       "    <tr>\n",
       "      <th>718</th>\n",
       "      <td>43.0</td>\n",
       "      <td>อินโดนีเซีย</td>\n",
       "    </tr>\n",
       "    <tr>\n",
       "      <th>719</th>\n",
       "      <td>45.0</td>\n",
       "      <td>พิธีทางศาสนา อินโดนีเซีย</td>\n",
       "    </tr>\n",
       "    <tr>\n",
       "      <th>720</th>\n",
       "      <td>46.0</td>\n",
       "      <td>การขนส่งสาธารณะ</td>\n",
       "    </tr>\n",
       "    <tr>\n",
       "      <th>721</th>\n",
       "      <td>47.0</td>\n",
       "      <td>ติดเชื้อจากการใกล้ชิดผู้เดินทางจากต่างประเทศ</td>\n",
       "    </tr>\n",
       "    <tr>\n",
       "      <th>722</th>\n",
       "      <td>44.0</td>\n",
       "      <td>สถานที่ชุมนุมชน เช่น ตลาด ห้าง</td>\n",
       "    </tr>\n",
       "    <tr>\n",
       "      <th>723</th>\n",
       "      <td>42.0</td>\n",
       "      <td>สถานบันเทิง ไม่ระบุจังหวัด</td>\n",
       "    </tr>\n",
       "    <tr>\n",
       "      <th>724</th>\n",
       "      <td>48.0</td>\n",
       "      <td>สหรัฐอเมริกา</td>\n",
       "    </tr>\n",
       "  </tbody>\n",
       "</table>\n",
       "</div>"
      ],
      "text/plain": [
       "     location_from_id                                          from_name\n",
       "683               1.0                            สัมผัสผู้ป่วยไม่ระบุเคส\n",
       "684               2.0                                    บุคลากรการแพทย์\n",
       "685               3.0                               ต่างประเทศ (ไม่ระบุ)\n",
       "686               4.0                                        ไม่พบข้อมูล\n",
       "687               5.0                                            ญี่ปุ่น\n",
       "688               6.0                                                จีน\n",
       "689               7.0                                                ไทย\n",
       "690               8.0                                          เกาหลีใต้\n",
       "691              40.0                                            เยอรมัน\n",
       "692               9.0                                       สวิตเซอแลนด์\n",
       "693              10.0                                             อิตาลี\n",
       "694              11.0                                            อิหร่าน\n",
       "695              12.0                                             ฮ่องกง\n",
       "696              13.0                                            ไต้หวัน\n",
       "697              14.0                                           ฝรั่งเศส\n",
       "698              15.0                                             อังกฤษ\n",
       "699              16.0                                            อินเดีย\n",
       "700              17.0                                            กัมพูชา\n",
       "701              18.0                                               สเปน\n",
       "702              19.0                                           มาเลเซีย\n",
       "703              20.0                                            อู่ฮั่น\n",
       "704              21.0                                            กรุงเทพ\n",
       "705              22.0                                             จิงโจว\n",
       "706              24.0                                             หัวหิน\n",
       "707              25.0                                    ประจวบคีรีขันธ์\n",
       "708              26.0                           คิงพาวเวอร์ สาขา ศรีวารี\n",
       "709              27.0                                        สมุทรปราการ\n",
       "710              30.0                                  สนามบินสุวรรณภูมิ\n",
       "711              31.0                                         Ohana Poké\n",
       "712              32.0                                 สถานบันเทิงทองหล่อ\n",
       "713              33.0                 สนามมวย ราชดำเนิน ลุมพินี อ้อมน้อย\n",
       "714              34.0                                Sri Petaling Mosque\n",
       "715              35.0                                      กัวลาลัมเปอร์\n",
       "716              39.0                        สถานบันเทิงกลางเมืองกรุงเทพ\n",
       "717              41.0  ทำงานหรืออาศัยในที่แออัด หรือมีนักท่องเที่ยวจำ...\n",
       "718              43.0                                        อินโดนีเซีย\n",
       "719              45.0                           พิธีทางศาสนา อินโดนีเซีย\n",
       "720              46.0                                    การขนส่งสาธารณะ\n",
       "721              47.0       ติดเชื้อจากการใกล้ชิดผู้เดินทางจากต่างประเทศ\n",
       "722              44.0                     สถานที่ชุมนุมชน เช่น ตลาด ห้าง\n",
       "723              42.0                         สถานบันเทิง ไม่ระบุจังหวัด\n",
       "724              48.0                                       สหรัฐอเมริกา"
      ]
     },
     "execution_count": 7,
     "metadata": {},
     "output_type": "execute_result"
    }
   ],
   "source": [
    "df[(df.location_from_id > 0) & (df.report_name.isnull())][['location_from_id', 'from_name']]"
   ]
  },
  {
   "cell_type": "markdown",
   "metadata": {},
   "source": [
    "### Data transformation to group different location codes into something more meaningful\n",
    "We will save these meaningful types into 'type' column of the case information rows.  The types include:\n",
    "- 'closed_contacts': infected from being near infected patients\n",
    "- 'medical_services': infected due to working in the medical facilities\n",
    "- 'abroad': travelling from abroad\n",
    "- 'unknown': infected without causes\n",
    "- 'local': infected from the community without specific location (e.g. in provinces, etc.)\n",
    "- 'crowded': infected from crowded and known places\n",
    "- 'airports': infected from working at the airport\n",
    "- 'public_transports': infected from public transports (e.g. taxi drivers)\n",
    "- 'traveller': infected from oversea traveller\n",
    "- 'in_progress': still under investigation"
   ]
  },
  {
   "cell_type": "code",
   "execution_count": 8,
   "metadata": {},
   "outputs": [],
   "source": [
    "location_mapping = {\n",
    "    'closed_contacts': [1],\n",
    "    'medical_services': [2],\n",
    "    'abroad': [3, 5, 6, 8, 9, 10, 11, 12, 13, 14, 15, 16, 17, 18, 19, 20, 22, 34, 35, 40, 43, 45, 48],\n",
    "    'unknown': [4],\n",
    "    'local': [7, 21, 24, 25, 27, 41],\n",
    "    'crowded': [26, 31, 32, 33, 39, 42, 44],\n",
    "    'airports': [30],\n",
    "    'public_transports': [46],\n",
    "    'traveller': [47]\n",
    "}"
   ]
  },
  {
   "cell_type": "code",
   "execution_count": 9,
   "metadata": {},
   "outputs": [],
   "source": [
    "df['type'] = ''"
   ]
  },
  {
   "cell_type": "code",
   "execution_count": 10,
   "metadata": {},
   "outputs": [],
   "source": [
    "for loc in location_mapping:\n",
    "    l = df[df.location_from_id.isin(location_mapping[loc]) & df.report_name.notnull()].report_name.tolist()\n",
    "    df.loc[df.rid.isin(l), 'type'] = loc"
   ]
  },
  {
   "cell_type": "code",
   "execution_count": 11,
   "metadata": {},
   "outputs": [],
   "source": [
    "fl = df[df.report_from_id > 0].report_name.tolist()\n",
    "df.loc[df.rid.isin(fl), 'type'] = 'friend_family'"
   ]
  },
  {
   "cell_type": "code",
   "execution_count": 12,
   "metadata": {},
   "outputs": [],
   "source": [
    "df.loc[df.detail_en.str.find('On examination process') >= 0, 'type'] = 'in_progress'"
   ]
  },
  {
   "cell_type": "code",
   "execution_count": 13,
   "metadata": {},
   "outputs": [],
   "source": [
    "df.loc[df.detail_en.str.lower().str.find('medical') >= 0, 'type'] = 'medical_services'"
   ]
  },
  {
   "cell_type": "code",
   "execution_count": 14,
   "metadata": {},
   "outputs": [],
   "source": [
    "df.loc[df.detail_en.str.lower().str.find('crowded') >= 0, 'type'] = 'crowded'"
   ]
  },
  {
   "cell_type": "code",
   "execution_count": 15,
   "metadata": {},
   "outputs": [],
   "source": [
    "df.loc[(df.detail_th.str.find('แออัด') >= 0) & (df.type == ''), 'type'] = 'crowded'"
   ]
  },
  {
   "cell_type": "code",
   "execution_count": 16,
   "metadata": {},
   "outputs": [],
   "source": [
    "df.loc[(df.detail_th.str.find('ใกล้ชิด') >= 0) & (df.type == ''), 'type'] = 'closed_contacts'"
   ]
  },
  {
   "cell_type": "code",
   "execution_count": 17,
   "metadata": {},
   "outputs": [],
   "source": [
    "df.loc[((df.detail_th.str.find('กลับจาก') >= 0) | (df.detail_th.str.find('มาจาก') >= 0) | (df.detail_th.str.find('เดินทางจาก') >= 0)) & (df.type == ''), 'type'] = 'abroad'"
   ]
  },
  {
   "cell_type": "code",
   "execution_count": 18,
   "metadata": {},
   "outputs": [],
   "source": [
    "df.loc[(df.detail_th.str.find('ไม่ทราบสาเหตุ') >= 0) & (df.type == ''), 'type'] = 'unknown'"
   ]
  },
  {
   "cell_type": "markdown",
   "metadata": {},
   "source": [
    "## Counting Cases\n",
    "To count properly, we will have to unroll those range case ids e.g. for report id = '132-134', we will have to count as 3 cases (132, 133, and 134)."
   ]
  },
  {
   "cell_type": "code",
   "execution_count": 19,
   "metadata": {},
   "outputs": [],
   "source": [
    "all_cases = df.loc[df.type != '', ['rid', 'type']].to_dict('records')"
   ]
  },
  {
   "cell_type": "markdown",
   "metadata": {},
   "source": [
    "### Unroll cases"
   ]
  },
  {
   "cell_type": "code",
   "execution_count": 20,
   "metadata": {},
   "outputs": [],
   "source": [
    "cases = {}\n",
    "max_rid = 0\n",
    "for c in all_cases:\n",
    "    rid = c['rid']\n",
    "    if '-' in rid:\n",
    "        ids = rid.split('-')\n",
    "        rids = [i for i in range(int(ids[0]), int(ids[1])+1)]\n",
    "    else:\n",
    "        rids = [int(rid)]\n",
    "\n",
    "    for r in rids:\n",
    "        cases[r] = c['type']\n",
    "        if r > max_rid:\n",
    "            max_rid = r"
   ]
  },
  {
   "cell_type": "code",
   "execution_count": 21,
   "metadata": {},
   "outputs": [
    {
     "data": {
      "text/plain": [
       "2672"
      ]
     },
     "execution_count": 21,
     "metadata": {},
     "output_type": "execute_result"
    }
   ],
   "source": [
    "max_rid"
   ]
  },
  {
   "cell_type": "code",
   "execution_count": 22,
   "metadata": {},
   "outputs": [],
   "source": [
    "cdf = pd.DataFrame.from_dict(cases, orient='index', columns=['type'])"
   ]
  },
  {
   "cell_type": "markdown",
   "metadata": {},
   "source": [
    "### Counting by types"
   ]
  },
  {
   "cell_type": "code",
   "execution_count": 23,
   "metadata": {
    "scrolled": true
   },
   "outputs": [
    {
     "data": {
      "text/plain": [
       "closed_contacts      791\n",
       "in_progress          570\n",
       "crowded              562\n",
       "abroad               446\n",
       "unknown              157\n",
       "medical_services      82\n",
       "local                 26\n",
       "friend_family         15\n",
       "traveller             14\n",
       "airports               5\n",
       "public_transports      4\n",
       "Name: type, dtype: int64"
      ]
     },
     "execution_count": 23,
     "metadata": {},
     "output_type": "execute_result"
    }
   ],
   "source": [
    "cdf.type.value_counts()"
   ]
  },
  {
   "cell_type": "markdown",
   "metadata": {},
   "source": [
    "### To understand the tracking technology ability, we will assign the possible tracking technology to each type"
   ]
  },
  {
   "cell_type": "code",
   "execution_count": 24,
   "metadata": {
    "scrolled": true
   },
   "outputs": [],
   "source": [
    "cdf['tracking_type'] = ''"
   ]
  },
  {
   "cell_type": "code",
   "execution_count": 25,
   "metadata": {},
   "outputs": [],
   "source": [
    "cdf.loc[cdf.type == 'closed_contacts', 'tracking_type'] = 'bluetooth'"
   ]
  },
  {
   "cell_type": "code",
   "execution_count": 26,
   "metadata": {},
   "outputs": [],
   "source": [
    "cdf.loc[cdf.type == 'in_progress', 'tracking_type'] = 'unknown'"
   ]
  },
  {
   "cell_type": "code",
   "execution_count": 27,
   "metadata": {},
   "outputs": [],
   "source": [
    "cdf.loc[cdf.type == 'crowded', 'tracking_type'] = 'qr'"
   ]
  },
  {
   "cell_type": "code",
   "execution_count": 28,
   "metadata": {},
   "outputs": [],
   "source": [
    "cdf.loc[cdf.type == 'abroad', 'tracking_type'] = 'abroad'"
   ]
  },
  {
   "cell_type": "code",
   "execution_count": 29,
   "metadata": {},
   "outputs": [],
   "source": [
    "cdf.loc[cdf.type == 'unknown', 'tracking_type'] = 'unknown'"
   ]
  },
  {
   "cell_type": "code",
   "execution_count": 30,
   "metadata": {},
   "outputs": [],
   "source": [
    "cdf.loc[cdf.type == 'medical_services', 'tracking_type'] = 'qr'"
   ]
  },
  {
   "cell_type": "code",
   "execution_count": 31,
   "metadata": {},
   "outputs": [],
   "source": [
    "cdf.loc[cdf.type == 'local', 'tracking_type'] = 'gps'"
   ]
  },
  {
   "cell_type": "code",
   "execution_count": 32,
   "metadata": {},
   "outputs": [],
   "source": [
    "cdf.loc[cdf.type == 'friend_family', 'tracking_type'] = 'gps'"
   ]
  },
  {
   "cell_type": "code",
   "execution_count": 33,
   "metadata": {},
   "outputs": [],
   "source": [
    "cdf.loc[cdf.type == 'traveller', 'tracking_type'] = 'gps'"
   ]
  },
  {
   "cell_type": "code",
   "execution_count": 34,
   "metadata": {},
   "outputs": [],
   "source": [
    "cdf.loc[cdf.type == 'airports', 'tracking_type'] = 'qr'"
   ]
  },
  {
   "cell_type": "code",
   "execution_count": 35,
   "metadata": {},
   "outputs": [],
   "source": [
    "cdf.loc[cdf.type == 'public_transports', 'tracking_type'] = 'gps'"
   ]
  },
  {
   "cell_type": "code",
   "execution_count": 36,
   "metadata": {},
   "outputs": [
    {
     "data": {
      "text/plain": [
       "2672"
      ]
     },
     "execution_count": 36,
     "metadata": {},
     "output_type": "execute_result"
    }
   ],
   "source": [
    "total = cdf.shape[0]\n",
    "total"
   ]
  },
  {
   "cell_type": "code",
   "execution_count": 37,
   "metadata": {},
   "outputs": [
    {
     "data": {
      "text/plain": [
       "bluetooth    791\n",
       "unknown      727\n",
       "qr           649\n",
       "abroad       446\n",
       "gps           59\n",
       "Name: tracking_type, dtype: int64"
      ]
     },
     "execution_count": 37,
     "metadata": {},
     "output_type": "execute_result"
    }
   ],
   "source": [
    "all_types = cdf.tracking_type.value_counts()\n",
    "all_types"
   ]
  },
  {
   "cell_type": "code",
   "execution_count": 38,
   "metadata": {},
   "outputs": [],
   "source": [
    "tracking_only = pd.DataFrame(all_types.drop('abroad').drop('unknown'))"
   ]
  },
  {
   "cell_type": "code",
   "execution_count": 39,
   "metadata": {},
   "outputs": [],
   "source": [
    "tracking_only['pct'] = tracking_only.tracking_type / tracking_only.tracking_type.sum()"
   ]
  },
  {
   "cell_type": "code",
   "execution_count": 40,
   "metadata": {},
   "outputs": [
    {
     "data": {
      "text/html": [
       "<div>\n",
       "<style scoped>\n",
       "    .dataframe tbody tr th:only-of-type {\n",
       "        vertical-align: middle;\n",
       "    }\n",
       "\n",
       "    .dataframe tbody tr th {\n",
       "        vertical-align: top;\n",
       "    }\n",
       "\n",
       "    .dataframe thead th {\n",
       "        text-align: right;\n",
       "    }\n",
       "</style>\n",
       "<table border=\"1\" class=\"dataframe\">\n",
       "  <thead>\n",
       "    <tr style=\"text-align: right;\">\n",
       "      <th></th>\n",
       "      <th>tracking_type</th>\n",
       "      <th>pct</th>\n",
       "    </tr>\n",
       "  </thead>\n",
       "  <tbody>\n",
       "    <tr>\n",
       "      <th>bluetooth</th>\n",
       "      <td>791</td>\n",
       "      <td>0.527685</td>\n",
       "    </tr>\n",
       "    <tr>\n",
       "      <th>qr</th>\n",
       "      <td>649</td>\n",
       "      <td>0.432955</td>\n",
       "    </tr>\n",
       "    <tr>\n",
       "      <th>gps</th>\n",
       "      <td>59</td>\n",
       "      <td>0.039360</td>\n",
       "    </tr>\n",
       "  </tbody>\n",
       "</table>\n",
       "</div>"
      ],
      "text/plain": [
       "           tracking_type       pct\n",
       "bluetooth            791  0.527685\n",
       "qr                   649  0.432955\n",
       "gps                   59  0.039360"
      ]
     },
     "execution_count": 40,
     "metadata": {},
     "output_type": "execute_result"
    }
   ],
   "source": [
    "tracking_only"
   ]
  },
  {
   "cell_type": "markdown",
   "metadata": {},
   "source": [
    "# Conclusion\n",
    "For 3 tracking technolgies, QR code will be able to help detecting only **43%** of all cases.  Thus, if there is the second wave, data from qr code checkin alone will not be enough."
   ]
  },
  {
   "cell_type": "code",
   "execution_count": null,
   "metadata": {},
   "outputs": [],
   "source": []
  }
 ],
 "metadata": {
  "kernelspec": {
   "display_name": "Python 3",
   "language": "python",
   "name": "python3"
  },
  "language_info": {
   "codemirror_mode": {
    "name": "ipython",
    "version": 3
   },
   "file_extension": ".py",
   "mimetype": "text/x-python",
   "name": "python",
   "nbconvert_exporter": "python",
   "pygments_lexer": "ipython3",
   "version": "3.7.6"
  },
  "toc": {
   "base_numbering": 1,
   "nav_menu": {},
   "number_sections": true,
   "sideBar": true,
   "skip_h1_title": false,
   "title_cell": "Table of Contents",
   "title_sidebar": "Contents",
   "toc_cell": false,
   "toc_position": {},
   "toc_section_display": true,
   "toc_window_display": false
  },
  "varInspector": {
   "cols": {
    "lenName": 16,
    "lenType": 16,
    "lenVar": 40
   },
   "kernels_config": {
    "python": {
     "delete_cmd_postfix": "",
     "delete_cmd_prefix": "del ",
     "library": "var_list.py",
     "varRefreshCmd": "print(var_dic_list())"
    },
    "r": {
     "delete_cmd_postfix": ") ",
     "delete_cmd_prefix": "rm(",
     "library": "var_list.r",
     "varRefreshCmd": "cat(var_dic_list()) "
    }
   },
   "types_to_exclude": [
    "module",
    "function",
    "builtin_function_or_method",
    "instance",
    "_Feature"
   ],
   "window_display": false
  }
 },
 "nbformat": 4,
 "nbformat_minor": 4
}
